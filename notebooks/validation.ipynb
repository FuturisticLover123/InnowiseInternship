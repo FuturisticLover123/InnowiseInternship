{
 "cells": [
  {
   "cell_type": "code",
   "execution_count": 1,
   "id": "147b9e5e",
   "metadata": {},
   "outputs": [],
   "source": [
    "import os\n",
    "import boto3\n",
    "from dotenv import load_dotenv\n",
    "import io \n",
    "import pandas as pd\n",
    "\n",
    "load_dotenv()\n",
    "\n",
    "YC_ACCESS_KEY_ID = os.getenv(\"YC_ACCESS_KEY_ID\")\n",
    "YC_SECRET_ACCESS_KEY = os.getenv(\"YC_SECRET_ACCESS_KEY\")\n",
    "YC_ENDPOINT_URL = os.getenv(\"YC_ENDPOINT_URL\")\n",
    "YC_BUCKET_NAME = os.getenv(\"YC_BUCKET_NAME\")"
   ]
  },
  {
   "cell_type": "code",
   "execution_count": 2,
   "id": "da769ba1",
   "metadata": {},
   "outputs": [],
   "source": [
    "session = boto3.session.Session()\n",
    "s3_client = session.client(\n",
    "    service_name='s3',\n",
    "    endpoint_url=YC_ENDPOINT_URL,\n",
    "    aws_access_key_id=YC_ACCESS_KEY_ID,\n",
    "    aws_secret_access_key=YC_SECRET_ACCESS_KEY\n",
    ")"
   ]
  },
  {
   "cell_type": "code",
   "execution_count": null,
   "id": "c5b26fa3",
   "metadata": {},
   "outputs": [],
   "source": []
  }
 ],
 "metadata": {
  "kernelspec": {
   "display_name": "Python (Jupyter)",
   "language": "python",
   "name": "jupyter_venv"
  },
  "language_info": {
   "codemirror_mode": {
    "name": "ipython",
    "version": 3
   },
   "file_extension": ".py",
   "mimetype": "text/x-python",
   "name": "python",
   "nbconvert_exporter": "python",
   "pygments_lexer": "ipython3",
   "version": "3.12.3"
  }
 },
 "nbformat": 4,
 "nbformat_minor": 5
}
