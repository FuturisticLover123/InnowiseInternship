{
  "cells": [
    {
      "cell_type": "markdown",
      "metadata": {
        "colab_type": "text",
        "id": "view-in-github"
      },
      "source": [
        "<a href=\"https://colab.research.google.com/github/FuturisticLover123/InnowiseInternship/blob/main/task1/ETL.ipynb\" target=\"_parent\"><img src=\"https://colab.research.google.com/assets/colab-badge.svg\" alt=\"Open In Colab\"/></a>"
      ]
    },
    {
      "cell_type": "code",
      "execution_count": 2,
      "metadata": {
        "id": "njcVvtDLfv8c"
      },
      "outputs": [],
      "source": [
        "import json\n",
        "kaggle_token = {\"username\":\"arseniyatrushkevich\",\n",
        " \"key\":\"546c397b87b27d9af5160bae671e5259\"}\n",
        "\n",
        "json.dump(kaggle_token, open('kaggle.json', 'w'))\n",
        "\n",
        "!mkdir -p ~/.kaggle\n",
        "!cp kaggle.json ~/.kaggle/\n",
        "!chmod 600 ~/.kaggle/kaggle.json"
      ]
    },
    {
      "cell_type": "code",
      "execution_count": 3,
      "metadata": {
        "colab": {
          "base_uri": "https://localhost:8080/"
        },
        "id": "DjJuHKYFfyBF",
        "outputId": "b79d89b1-83ae-403e-bb3b-bbd7fd6e5544"
      },
      "outputs": [
        {
          "name": "stdout",
          "output_type": "stream",
          "text": [
            "Requirement already satisfied: kaggle in /home/arseniy/jupyter_venv/lib/python3.12/site-packages (1.7.4.5)\n",
            "Requirement already satisfied: bleach in /home/arseniy/jupyter_venv/lib/python3.12/site-packages (from kaggle) (6.2.0)\n",
            "Requirement already satisfied: certifi>=14.05.14 in /home/arseniy/jupyter_venv/lib/python3.12/site-packages (from kaggle) (2025.6.15)\n",
            "Requirement already satisfied: charset-normalizer in /home/arseniy/jupyter_venv/lib/python3.12/site-packages (from kaggle) (3.4.2)\n",
            "Requirement already satisfied: idna in /home/arseniy/jupyter_venv/lib/python3.12/site-packages (from kaggle) (3.10)\n",
            "Requirement already satisfied: protobuf in /home/arseniy/jupyter_venv/lib/python3.12/site-packages (from kaggle) (6.31.1)\n",
            "Requirement already satisfied: python-dateutil>=2.5.3 in /home/arseniy/jupyter_venv/lib/python3.12/site-packages (from kaggle) (2.9.0.post0)\n",
            "Requirement already satisfied: python-slugify in /home/arseniy/jupyter_venv/lib/python3.12/site-packages (from kaggle) (8.0.4)\n",
            "Requirement already satisfied: requests in /home/arseniy/jupyter_venv/lib/python3.12/site-packages (from kaggle) (2.32.4)\n",
            "Requirement already satisfied: setuptools>=21.0.0 in /home/arseniy/jupyter_venv/lib/python3.12/site-packages (from kaggle) (80.9.0)\n",
            "Requirement already satisfied: six>=1.10 in /home/arseniy/jupyter_venv/lib/python3.12/site-packages (from kaggle) (1.17.0)\n",
            "Requirement already satisfied: text-unidecode in /home/arseniy/jupyter_venv/lib/python3.12/site-packages (from kaggle) (1.3)\n",
            "Requirement already satisfied: tqdm in /home/arseniy/jupyter_venv/lib/python3.12/site-packages (from kaggle) (4.67.1)\n",
            "Requirement already satisfied: urllib3>=1.15.1 in /home/arseniy/jupyter_venv/lib/python3.12/site-packages (from kaggle) (2.5.0)\n",
            "Requirement already satisfied: webencodings in /home/arseniy/jupyter_venv/lib/python3.12/site-packages (from kaggle) (0.5.1)\n",
            "Note: you may need to restart the kernel to use updated packages.\n",
            "competitive-data-science-predict-future-sales.zip: Skipping, found more recently modified local copy (use --force to force download)\n",
            "replace data_storage/item_categories.csv? [y]es, [n]o, [A]ll, [N]one, [r]ename: ^C\n"
          ]
        }
      ],
      "source": [
        "%pip install kaggle\n",
        "\n",
        "!mkdir -p data_storage\n",
        "!kaggle competitions download -c competitive-data-science-predict-future-sales -p data_storage\n",
        "!unzip -q data_storage/competitive-data-science-predict-future-sales.zip -d data_storage\n"
      ]
    },
    {
      "cell_type": "code",
      "execution_count": null,
      "metadata": {},
      "outputs": [],
      "source": [
        "# как можно лучше загружать данные?\n",
        "# не удобно вот так каждый раз загружать данные"
      ]
    },
    {
      "cell_type": "code",
      "execution_count": 4,
      "metadata": {
        "id": "YvLFrJU8fzQR"
      },
      "outputs": [
        {
          "name": "stdout",
          "output_type": "stream",
          "text": [
            "Requirement already satisfied: pandas in /home/arseniy/jupyter_venv/lib/python3.12/site-packages (2.3.0)\n",
            "Requirement already satisfied: seaborn in /home/arseniy/jupyter_venv/lib/python3.12/site-packages (0.13.2)\n",
            "Requirement already satisfied: matplotlib in /home/arseniy/jupyter_venv/lib/python3.12/site-packages (3.10.3)\n",
            "Requirement already satisfied: numpy in /home/arseniy/jupyter_venv/lib/python3.12/site-packages (2.3.1)\n",
            "Requirement already satisfied: python-dateutil>=2.8.2 in /home/arseniy/jupyter_venv/lib/python3.12/site-packages (from pandas) (2.9.0.post0)\n",
            "Requirement already satisfied: pytz>=2020.1 in /home/arseniy/jupyter_venv/lib/python3.12/site-packages (from pandas) (2025.2)\n",
            "Requirement already satisfied: tzdata>=2022.7 in /home/arseniy/jupyter_venv/lib/python3.12/site-packages (from pandas) (2025.2)\n",
            "Requirement already satisfied: contourpy>=1.0.1 in /home/arseniy/jupyter_venv/lib/python3.12/site-packages (from matplotlib) (1.3.2)\n",
            "Requirement already satisfied: cycler>=0.10 in /home/arseniy/jupyter_venv/lib/python3.12/site-packages (from matplotlib) (0.12.1)\n",
            "Requirement already satisfied: fonttools>=4.22.0 in /home/arseniy/jupyter_venv/lib/python3.12/site-packages (from matplotlib) (4.58.4)\n",
            "Requirement already satisfied: kiwisolver>=1.3.1 in /home/arseniy/jupyter_venv/lib/python3.12/site-packages (from matplotlib) (1.4.8)\n",
            "Requirement already satisfied: packaging>=20.0 in /home/arseniy/jupyter_venv/lib/python3.12/site-packages (from matplotlib) (25.0)\n",
            "Requirement already satisfied: pillow>=8 in /home/arseniy/jupyter_venv/lib/python3.12/site-packages (from matplotlib) (11.2.1)\n",
            "Requirement already satisfied: pyparsing>=2.3.1 in /home/arseniy/jupyter_venv/lib/python3.12/site-packages (from matplotlib) (3.2.3)\n",
            "Requirement already satisfied: six>=1.5 in /home/arseniy/jupyter_venv/lib/python3.12/site-packages (from python-dateutil>=2.8.2->pandas) (1.17.0)\n",
            "Note: you may need to restart the kernel to use updated packages.\n"
          ]
        }
      ],
      "source": [
        "%pip install pandas seaborn matplotlib numpy\n",
        "\n",
        "import pandas as pd\n",
        "import seaborn as sns\n",
        "import matplotlib.pyplot as plt\n",
        "import numpy as np"
      ]
    },
    {
      "cell_type": "code",
      "execution_count": 5,
      "metadata": {
        "id": "KNP-nEFLf2jg"
      },
      "outputs": [],
      "source": [
        "path = 'data_storage/'\n",
        "\n",
        "train = pd.read_csv(f'{path}sales_train.csv')\n",
        "shops = pd.read_csv(f'{path}shops.csv')\n",
        "items = pd.read_csv(f'{path}items.csv')\n",
        "item_categories = pd.read_csv(f'{path}item_categories.csv')\n",
        "test = pd.read_csv(f'{path}test.csv')"
      ]
    },
    {
      "cell_type": "code",
      "execution_count": 6,
      "metadata": {
        "colab": {
          "base_uri": "https://localhost:8080/",
          "height": 206
        },
        "id": "2j9vNxhsf6l5",
        "outputId": "49680790-d5bb-4ab4-d5be-03b199f6e42c"
      },
      "outputs": [
        {
          "data": {
            "text/html": [
              "<div>\n",
              "<style scoped>\n",
              "    .dataframe tbody tr th:only-of-type {\n",
              "        vertical-align: middle;\n",
              "    }\n",
              "\n",
              "    .dataframe tbody tr th {\n",
              "        vertical-align: top;\n",
              "    }\n",
              "\n",
              "    .dataframe thead th {\n",
              "        text-align: right;\n",
              "    }\n",
              "</style>\n",
              "<table border=\"1\" class=\"dataframe\">\n",
              "  <thead>\n",
              "    <tr style=\"text-align: right;\">\n",
              "      <th></th>\n",
              "      <th>date</th>\n",
              "      <th>date_block_num</th>\n",
              "      <th>shop_id</th>\n",
              "      <th>item_id</th>\n",
              "      <th>item_price</th>\n",
              "      <th>item_cnt_day</th>\n",
              "    </tr>\n",
              "  </thead>\n",
              "  <tbody>\n",
              "    <tr>\n",
              "      <th>0</th>\n",
              "      <td>02.01.2013</td>\n",
              "      <td>0</td>\n",
              "      <td>59</td>\n",
              "      <td>22154</td>\n",
              "      <td>999.00</td>\n",
              "      <td>1.0</td>\n",
              "    </tr>\n",
              "    <tr>\n",
              "      <th>1</th>\n",
              "      <td>03.01.2013</td>\n",
              "      <td>0</td>\n",
              "      <td>25</td>\n",
              "      <td>2552</td>\n",
              "      <td>899.00</td>\n",
              "      <td>1.0</td>\n",
              "    </tr>\n",
              "    <tr>\n",
              "      <th>2</th>\n",
              "      <td>05.01.2013</td>\n",
              "      <td>0</td>\n",
              "      <td>25</td>\n",
              "      <td>2552</td>\n",
              "      <td>899.00</td>\n",
              "      <td>-1.0</td>\n",
              "    </tr>\n",
              "    <tr>\n",
              "      <th>3</th>\n",
              "      <td>06.01.2013</td>\n",
              "      <td>0</td>\n",
              "      <td>25</td>\n",
              "      <td>2554</td>\n",
              "      <td>1709.05</td>\n",
              "      <td>1.0</td>\n",
              "    </tr>\n",
              "    <tr>\n",
              "      <th>4</th>\n",
              "      <td>15.01.2013</td>\n",
              "      <td>0</td>\n",
              "      <td>25</td>\n",
              "      <td>2555</td>\n",
              "      <td>1099.00</td>\n",
              "      <td>1.0</td>\n",
              "    </tr>\n",
              "  </tbody>\n",
              "</table>\n",
              "</div>"
            ],
            "text/plain": [
              "         date  date_block_num  shop_id  item_id  item_price  item_cnt_day\n",
              "0  02.01.2013               0       59    22154      999.00           1.0\n",
              "1  03.01.2013               0       25     2552      899.00           1.0\n",
              "2  05.01.2013               0       25     2552      899.00          -1.0\n",
              "3  06.01.2013               0       25     2554     1709.05           1.0\n",
              "4  15.01.2013               0       25     2555     1099.00           1.0"
            ]
          },
          "execution_count": 6,
          "metadata": {},
          "output_type": "execute_result"
        }
      ],
      "source": [
        "train.head()"
      ]
    },
    {
      "cell_type": "code",
      "execution_count": 7,
      "metadata": {
        "id": "kcGZl6hpf8lc"
      },
      "outputs": [],
      "source": [
        "#удаляем отрицательные продажи тк это или ошибки при сборе данных или возвраты товаров\n",
        "#в любом случае это не то что нам нужно\n",
        "\n",
        "filtered_train = train[(0 <= train['item_cnt_day'])]"
      ]
    },
    {
      "cell_type": "code",
      "execution_count": 8,
      "metadata": {},
      "outputs": [
        {
          "data": {
            "image/png": "[encoded data removed]",
            "text/plain": [
              "<Figure size 640x480 with 1 Axes>"
            ]
          },
          "metadata": {},
          "output_type": "display_data"
        }
      ],
      "source": [
        "sample_shops = train['shop_id'].value_counts().index[:10]\n",
        "\n",
        "# у разных магазинов разные пики в распределении продаж\n",
        "# хочется удалять большие цифры с учетом этого \n",
        "\n",
        "for shop in sample_shops:\n",
        "    sns.kdeplot(data=train[train['shop_id'] == shop], x='item_cnt_day', fill=True, label=f'Shop {shop}')\n",
        "plt.title('Распределение числа продаж за день по магазинам')\n",
        "plt.xlabel('Число продаж за день (item_cnt_day)')\n",
        "plt.ylabel('Плотность')\n",
        "plt.legend()\n",
        "plt.show()"
      ]
    },
    {
      "cell_type": "code",
      "execution_count": 10,
      "metadata": {},
      "outputs": [
        {
          "name": "stdout",
          "output_type": "stream",
          "text": [
            "Размер датасета после удаления выбросов: (2632181, 6)\n",
            "Удалено строк: 303668\n"
          ]
        }
      ],
      "source": [
        "def remove_outliers_by_shop(df, column='item_cnt_day'):\n",
        "    cleaned_dfs = []\n",
        "    for shop_id in df['shop_id'].unique():\n",
        "        shop_data = df[df['shop_id'] == shop_id].copy()\n",
        "        \n",
        "        if len(shop_data) < 10:\n",
        "            cleaned_dfs.append(shop_data)\n",
        "            continue\n",
        "        \n",
        "        Q1 = shop_data[column].quantile(0.25)\n",
        "        Q3 = shop_data[column].quantile(0.75)\n",
        "        IQR = Q3 - Q1\n",
        "        lower_bound = Q1 - 1.5 * IQR\n",
        "        upper_bound = Q3 + 1.5 * IQR\n",
        "        \n",
        "        shop_data_cleaned = shop_data[(shop_data[column] >= lower_bound) & \n",
        "                                      (shop_data[column] <= upper_bound)]\n",
        "        \n",
        "        cleaned_dfs.append(shop_data_cleaned)\n",
        "    \n",
        "    return pd.concat(cleaned_dfs, ignore_index=True)\n",
        "\n",
        "sales_train_cleaned = remove_outliers_by_shop(train, 'item_cnt_day')\n",
        "print(\"Размер датасета после удаления выбросов:\", sales_train_cleaned.shape)\n",
        "\n",
        "print(\"Удалено строк:\", len(train) - len(sales_train_cleaned))\n",
        "\n",
        "# Мы потеряли 10% данных возможно это очень много \n",
        "\n",
        "# думаю это так плохо потому что iqr так себе работате с несимметричым распределением + item_cnt_day видимо слишком  случайный\n",
        "# нужно придумать что-то другое "
      ]
    },
    {
      "cell_type": "code",
      "execution_count": 11,
      "metadata": {},
      "outputs": [
        {
          "name": "stdout",
          "output_type": "stream",
          "text": [
            "Requirement already satisfied: scikit-learn in /home/arseniy/jupyter_venv/lib/python3.12/site-packages (1.7.1)\n",
            "Requirement already satisfied: numpy>=1.22.0 in /home/arseniy/jupyter_venv/lib/python3.12/site-packages (from scikit-learn) (2.3.1)\n",
            "Requirement already satisfied: scipy>=1.8.0 in /home/arseniy/jupyter_venv/lib/python3.12/site-packages (from scikit-learn) (1.16.0)\n",
            "Requirement already satisfied: joblib>=1.2.0 in /home/arseniy/jupyter_venv/lib/python3.12/site-packages (from scikit-learn) (1.5.1)\n",
            "Requirement already satisfied: threadpoolctl>=3.1.0 in /home/arseniy/jupyter_venv/lib/python3.12/site-packages (from scikit-learn) (3.6.0)\n",
            "Note: you may need to restart the kernel to use updated packages.\n"
          ]
        }
      ],
      "source": [
        "%pip install scikit-learn\n",
        "from sklearn.ensemble import IsolationForest  "
      ]
    },
    {
      "cell_type": "code",
      "execution_count": 12,
      "metadata": {},
      "outputs": [],
      "source": [
        "# пока так\n",
        "\n",
        "iso_forest = IsolationForest(contamination=0.01, random_state=42)\n",
        "train['anomaly'] = iso_forest.fit_predict(train[['item_cnt_day']].values)\n",
        "sales_train_cleaned = train[train['anomaly'] == 1].copy()"
      ]
    },
    {
      "cell_type": "code",
      "execution_count": null,
      "metadata": {},
      "outputs": [
        {
          "data": {
            "text/html": [
              "<div>\n",
              "<style scoped>\n",
              "    .dataframe tbody tr th:only-of-type {\n",
              "        vertical-align: middle;\n",
              "    }\n",
              "\n",
              "    .dataframe tbody tr th {\n",
              "        vertical-align: top;\n",
              "    }\n",
              "\n",
              "    .dataframe thead th {\n",
              "        text-align: right;\n",
              "    }\n",
              "</style>\n",
              "<table border=\"1\" class=\"dataframe\">\n",
              "  <thead>\n",
              "    <tr style=\"text-align: right;\">\n",
              "      <th></th>\n",
              "      <th>date</th>\n",
              "      <th>date_block_num</th>\n",
              "      <th>shop_id</th>\n",
              "      <th>item_id</th>\n",
              "      <th>item_price</th>\n",
              "      <th>item_cnt_day</th>\n",
              "      <th>anomaly</th>\n",
              "      <th>item_name</th>\n",
              "      <th>item_category_id</th>\n",
              "    </tr>\n",
              "  </thead>\n",
              "  <tbody>\n",
              "    <tr>\n",
              "      <th>1573253</th>\n",
              "      <td>22.04.2014</td>\n",
              "      <td>15</td>\n",
              "      <td>27</td>\n",
              "      <td>8057</td>\n",
              "      <td>1200.000000</td>\n",
              "      <td>502.0</td>\n",
              "      <td>-1</td>\n",
              "      <td>iTunes 1500 руб.</td>\n",
              "      <td>32</td>\n",
              "    </tr>\n",
              "    <tr>\n",
              "      <th>1708207</th>\n",
              "      <td>28.06.2014</td>\n",
              "      <td>17</td>\n",
              "      <td>25</td>\n",
              "      <td>20949</td>\n",
              "      <td>5.000000</td>\n",
              "      <td>501.0</td>\n",
              "      <td>-1</td>\n",
              "      <td>Фирменный пакет майка 1С Интерес белый (34*42)...</td>\n",
              "      <td>71</td>\n",
              "    </tr>\n",
              "    <tr>\n",
              "      <th>2048518</th>\n",
              "      <td>02.10.2014</td>\n",
              "      <td>21</td>\n",
              "      <td>12</td>\n",
              "      <td>9242</td>\n",
              "      <td>1500.000000</td>\n",
              "      <td>512.0</td>\n",
              "      <td>-1</td>\n",
              "      <td>Билет \"ИгроМир 2014\" (на один день (отдельно -...</td>\n",
              "      <td>8</td>\n",
              "    </tr>\n",
              "    <tr>\n",
              "      <th>2067669</th>\n",
              "      <td>09.10.2014</td>\n",
              "      <td>21</td>\n",
              "      <td>55</td>\n",
              "      <td>19437</td>\n",
              "      <td>899.000000</td>\n",
              "      <td>508.0</td>\n",
              "      <td>-1</td>\n",
              "      <td>Средиземье: Тени Мордора [PC, Цифровая версия]</td>\n",
              "      <td>31</td>\n",
              "    </tr>\n",
              "    <tr>\n",
              "      <th>2326930</th>\n",
              "      <td>15.01.2015</td>\n",
              "      <td>24</td>\n",
              "      <td>12</td>\n",
              "      <td>20949</td>\n",
              "      <td>4.000000</td>\n",
              "      <td>1000.0</td>\n",
              "      <td>-1</td>\n",
              "      <td>Фирменный пакет майка 1С Интерес белый (34*42)...</td>\n",
              "      <td>71</td>\n",
              "    </tr>\n",
              "    <tr>\n",
              "      <th>2608040</th>\n",
              "      <td>14.04.2015</td>\n",
              "      <td>27</td>\n",
              "      <td>12</td>\n",
              "      <td>3731</td>\n",
              "      <td>1904.548077</td>\n",
              "      <td>624.0</td>\n",
              "      <td>-1</td>\n",
              "      <td>Grand Theft Auto V [PC, русские субтитры]</td>\n",
              "      <td>30</td>\n",
              "    </tr>\n",
              "    <tr>\n",
              "      <th>2626181</th>\n",
              "      <td>19.05.2015</td>\n",
              "      <td>28</td>\n",
              "      <td>12</td>\n",
              "      <td>11373</td>\n",
              "      <td>155.192950</td>\n",
              "      <td>539.0</td>\n",
              "      <td>-1</td>\n",
              "      <td>Доставка до пункта выдачи (Boxberry)</td>\n",
              "      <td>9</td>\n",
              "    </tr>\n",
              "    <tr>\n",
              "      <th>2851073</th>\n",
              "      <td>29.09.2015</td>\n",
              "      <td>32</td>\n",
              "      <td>55</td>\n",
              "      <td>9249</td>\n",
              "      <td>1500.000000</td>\n",
              "      <td>533.0</td>\n",
              "      <td>-1</td>\n",
              "      <td>Билет \"ИгроМир 2015\" - 3 октября 2015 (сайт) У...</td>\n",
              "      <td>8</td>\n",
              "    </tr>\n",
              "    <tr>\n",
              "      <th>2851091</th>\n",
              "      <td>30.09.2015</td>\n",
              "      <td>32</td>\n",
              "      <td>55</td>\n",
              "      <td>9249</td>\n",
              "      <td>1702.825746</td>\n",
              "      <td>637.0</td>\n",
              "      <td>-1</td>\n",
              "      <td>Билет \"ИгроМир 2015\" - 3 октября 2015 (сайт) У...</td>\n",
              "      <td>8</td>\n",
              "    </tr>\n",
              "    <tr>\n",
              "      <th>2864235</th>\n",
              "      <td>30.09.2015</td>\n",
              "      <td>32</td>\n",
              "      <td>12</td>\n",
              "      <td>9248</td>\n",
              "      <td>1692.526158</td>\n",
              "      <td>669.0</td>\n",
              "      <td>-1</td>\n",
              "      <td>Билет \"ИгроМир 2015\" - 3 октября 2015 (сайт) [...</td>\n",
              "      <td>80</td>\n",
              "    </tr>\n",
              "    <tr>\n",
              "      <th>2864260</th>\n",
              "      <td>29.09.2015</td>\n",
              "      <td>32</td>\n",
              "      <td>12</td>\n",
              "      <td>9248</td>\n",
              "      <td>1500.000000</td>\n",
              "      <td>504.0</td>\n",
              "      <td>-1</td>\n",
              "      <td>Билет \"ИгроМир 2015\" - 3 октября 2015 (сайт) [...</td>\n",
              "      <td>80</td>\n",
              "    </tr>\n",
              "    <tr>\n",
              "      <th>2909818</th>\n",
              "      <td>28.10.2015</td>\n",
              "      <td>33</td>\n",
              "      <td>12</td>\n",
              "      <td>11373</td>\n",
              "      <td>0.908714</td>\n",
              "      <td>2169.0</td>\n",
              "      <td>-1</td>\n",
              "      <td>Доставка до пункта выдачи (Boxberry)</td>\n",
              "      <td>9</td>\n",
              "    </tr>\n",
              "  </tbody>\n",
              "</table>\n",
              "</div>"
            ],
            "text/plain": [
              "               date  date_block_num  shop_id  item_id   item_price  \\\n",
              "1573253  22.04.2014              15       27     8057  1200.000000   \n",
              "1708207  28.06.2014              17       25    20949     5.000000   \n",
              "2048518  02.10.2014              21       12     9242  1500.000000   \n",
              "2067669  09.10.2014              21       55    19437   899.000000   \n",
              "2326930  15.01.2015              24       12    20949     4.000000   \n",
              "2608040  14.04.2015              27       12     3731  1904.548077   \n",
              "2626181  19.05.2015              28       12    11373   155.192950   \n",
              "2851073  29.09.2015              32       55     9249  1500.000000   \n",
              "2851091  30.09.2015              32       55     9249  1702.825746   \n",
              "2864235  30.09.2015              32       12     9248  1692.526158   \n",
              "2864260  29.09.2015              32       12     9248  1500.000000   \n",
              "2909818  28.10.2015              33       12    11373     0.908714   \n",
              "\n",
              "         item_cnt_day  anomaly  \\\n",
              "1573253         502.0       -1   \n",
              "1708207         501.0       -1   \n",
              "2048518         512.0       -1   \n",
              "2067669         508.0       -1   \n",
              "2326930        1000.0       -1   \n",
              "2608040         624.0       -1   \n",
              "2626181         539.0       -1   \n",
              "2851073         533.0       -1   \n",
              "2851091         637.0       -1   \n",
              "2864235         669.0       -1   \n",
              "2864260         504.0       -1   \n",
              "2909818        2169.0       -1   \n",
              "\n",
              "                                                 item_name  item_category_id  \n",
              "1573253                                   iTunes 1500 руб.                32  \n",
              "1708207  Фирменный пакет майка 1С Интерес белый (34*42)...                71  \n",
              "2048518  Билет \"ИгроМир 2014\" (на один день (отдельно -...                 8  \n",
              "2067669     Средиземье: Тени Мордора [PC, Цифровая версия]                31  \n",
              "2326930  Фирменный пакет майка 1С Интерес белый (34*42)...                71  \n",
              "2608040          Grand Theft Auto V [PC, русские субтитры]                30  \n",
              "2626181               Доставка до пункта выдачи (Boxberry)                 9  \n",
              "2851073  Билет \"ИгроМир 2015\" - 3 октября 2015 (сайт) У...                 8  \n",
              "2851091  Билет \"ИгроМир 2015\" - 3 октября 2015 (сайт) У...                 8  \n",
              "2864235  Билет \"ИгроМир 2015\" - 3 октября 2015 (сайт) [...                80  \n",
              "2864260  Билет \"ИгроМир 2015\" - 3 октября 2015 (сайт) [...                80  \n",
              "2909818               Доставка до пункта выдачи (Boxberry)                 9  "
            ]
          },
          "execution_count": 67,
          "metadata": {},
          "output_type": "execute_result"
        }
      ],
      "source": [
        "# все продаже за день больше 500 это либо выбросы либо редкие оптовые покупки которые мы все равно предсказать не сможем  \n",
        "# в целом понимаемо\n",
        "train[train['item_cnt_day'] > 500].join(items.set_index('item_id'), on='item_id', rsuffix='_item')"
      ]
    },
    {
      "cell_type": "code",
      "execution_count": 68,
      "metadata": {},
      "outputs": [],
      "source": [
        "filtered_train = filtered_train[filtered_train['item_price'] <= 10000]"
      ]
    },
    {
      "cell_type": "code",
      "execution_count": null,
      "metadata": {
        "colab": {
          "base_uri": "https://localhost:8080/",
          "height": 467
        },
        "id": "4B5aPLAShAJz",
        "outputId": "e759ffad-c07b-4b21-a580-9f13cbc2b405"
      },
      "outputs": [
        {
          "data": {
            "text/plain": [
              "<Axes: xlabel='item_price', ylabel='Density'>"
            ]
          },
          "execution_count": 69,
          "metadata": {},
          "output_type": "execute_result"
        },
        {
          "data": {
            "image/png": "[encoded data removed]",
            "text/plain": [
              "<Figure size 640x480 with 1 Axes>"
            ]
          },
          "metadata": {},
          "output_type": "display_data"
        }
      ],
      "source": [
        "filtered_train\n",
        "\n",
        "sns.kdeplot(filtered_train['item_price'])\n",
        "# стало сильно лучше "
      ]
    },
    {
      "cell_type": "code",
      "execution_count": 13,
      "metadata": {
        "id": "M8lgQaJ6ii0b"
      },
      "outputs": [],
      "source": [
        "#группировка по месяцами\n",
        "grouped_train = filtered_train.groupby(['date_block_num', 'shop_id', 'item_id']).agg(item_cnt_month = ('item_cnt_day', 'sum')).reset_index()"
      ]
    },
    {
      "cell_type": "code",
      "execution_count": 14,
      "metadata": {
        "colab": {
          "base_uri": "https://localhost:8080/",
          "height": 206
        },
        "id": "aVhZm4KUnRJ2",
        "outputId": "b231e0a2-d58a-453c-b6f7-175421326579"
      },
      "outputs": [
        {
          "data": {
            "text/html": [
              "<div>\n",
              "<style scoped>\n",
              "    .dataframe tbody tr th:only-of-type {\n",
              "        vertical-align: middle;\n",
              "    }\n",
              "\n",
              "    .dataframe tbody tr th {\n",
              "        vertical-align: top;\n",
              "    }\n",
              "\n",
              "    .dataframe thead th {\n",
              "        text-align: right;\n",
              "    }\n",
              "</style>\n",
              "<table border=\"1\" class=\"dataframe\">\n",
              "  <thead>\n",
              "    <tr style=\"text-align: right;\">\n",
              "      <th></th>\n",
              "      <th>date_block_num</th>\n",
              "      <th>shop_id</th>\n",
              "      <th>item_id</th>\n",
              "      <th>item_cnt_month</th>\n",
              "    </tr>\n",
              "  </thead>\n",
              "  <tbody>\n",
              "    <tr>\n",
              "      <th>0</th>\n",
              "      <td>0</td>\n",
              "      <td>0</td>\n",
              "      <td>32</td>\n",
              "      <td>6.0</td>\n",
              "    </tr>\n",
              "    <tr>\n",
              "      <th>1</th>\n",
              "      <td>0</td>\n",
              "      <td>0</td>\n",
              "      <td>33</td>\n",
              "      <td>3.0</td>\n",
              "    </tr>\n",
              "    <tr>\n",
              "      <th>2</th>\n",
              "      <td>0</td>\n",
              "      <td>0</td>\n",
              "      <td>35</td>\n",
              "      <td>1.0</td>\n",
              "    </tr>\n",
              "    <tr>\n",
              "      <th>3</th>\n",
              "      <td>0</td>\n",
              "      <td>0</td>\n",
              "      <td>43</td>\n",
              "      <td>1.0</td>\n",
              "    </tr>\n",
              "    <tr>\n",
              "      <th>4</th>\n",
              "      <td>0</td>\n",
              "      <td>0</td>\n",
              "      <td>51</td>\n",
              "      <td>2.0</td>\n",
              "    </tr>\n",
              "  </tbody>\n",
              "</table>\n",
              "</div>"
            ],
            "text/plain": [
              "   date_block_num  shop_id  item_id  item_cnt_month\n",
              "0               0        0       32             6.0\n",
              "1               0        0       33             3.0\n",
              "2               0        0       35             1.0\n",
              "3               0        0       43             1.0\n",
              "4               0        0       51             2.0"
            ]
          },
          "execution_count": 14,
          "metadata": {},
          "output_type": "execute_result"
        }
      ],
      "source": [
        "grouped_train.head()"
      ]
    },
    {
      "cell_type": "code",
      "execution_count": null,
      "metadata": {
        "id": "ARjJedayl31G"
      },
      "outputs": [],
      "source": [
        "# куда можно все выгрузить?\n",
        "# не хочется хранить все локально"
      ]
    },
    {
      "cell_type": "code",
      "execution_count": null,
      "metadata": {
        "id": "cE36sDoeqgni"
      },
      "outputs": [],
      "source": []
    }
  ],
  "metadata": {
    "colab": {
      "authorship_tag": "ABX9TyPeCIm49esSJ2zZjxnH4A+S",
      "include_colab_link": true,
      "provenance": []
    },
    "kernelspec": {
      "display_name": "Python (Jupyter)",
      "language": "python",
      "name": "jupyter_venv"
    },
    "language_info": {
      "codemirror_mode": {
        "name": "ipython",
        "version": 3
      },
      "file_extension": ".py",
      "mimetype": "text/x-python",
      "name": "python",
      "nbconvert_exporter": "python",
      "pygments_lexer": "ipython3",
      "version": "3.12.3"
    }
  },
  "nbformat": 4,
  "nbformat_minor": 0
}
